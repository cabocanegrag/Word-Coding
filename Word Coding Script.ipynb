{
 "cells": [
  {
   "cell_type": "markdown",
   "metadata": {},
   "source": [
    "This script ask the user to input a word/sentence, letter and word step, then based on this, it moves the letters based on their position in the alphabet and the words based on their position in the sentence. It skip any special symbol.\n",
    "\n",
    "Este programa le pide al usuario ingresar una frase, el dezplazamiento de las letras y palabra. Luego basado en esta informacion se moveran las letras dependiendo de su posicion en el alfabeto y las palabras de su posicion en la frase. Omite cualquier simbolo."
   ]
  },
  {
   "cell_type": "code",
   "execution_count": 5,
   "metadata": {},
   "outputs": [
    {
     "name": "stdout",
     "output_type": "stream",
     "text": [
      "Introduzca texto a cifrar Hola Como Estas?\n",
      "Indique desplazamiento letras 250\n",
      "Indique desplazamiento palabras 300\n"
     ]
    }
   ],
   "source": [
    "# Ask for the user input\n",
    "import string \n",
    "text=input(\"Introduzca texto a cifrar \")\n",
    "despl=input(\"Indique desplazamiento letras \")\n",
    "despp=input(\"Indique desplazamiento palabras \")\n",
    "\n",
    "while True:\n",
    "    if despl.isdigit() and despp.isdigit() and int(despl)>=0 and int(despp)>=0:\n",
    "        despl=int(despl)\n",
    "        despp=int(despp)\n",
    "        text=list(text)\n",
    "        break\n",
    "    else:\n",
    "        print(\"Atencion!! Ingrese solo numeros enteros >=0 para los desplazamientos\")\n",
    "        despl=input(\"Indique desplazamiento letras \")\n",
    "        despp=input(\"Indique desplazamiento palabras \")\n",
    "\n",
    "alfabeto=list(string.ascii_lowercase+string.ascii_uppercase) \n"
   ]
  },
  {
   "cell_type": "code",
   "execution_count": 8,
   "metadata": {},
   "outputs": [
    {
     "name": "stdout",
     "output_type": "stream",
     "text": [
      "Aopwo? Dkhw Ykik\n"
     ]
    }
   ],
   "source": [
    "#Runs the script and prints final result, running again it without running previous cell will recodify the new output\n",
    "#print(text) #disabled, prints original user input in a list\n",
    "for i in text:\n",
    "    if i in alfabeto:\n",
    "        indice=alfabeto.index(i)\n",
    "        n_indice=indice+despl\n",
    "        if indice < 26 and n_indice > 25:\n",
    "            n_indice = n_indice%26\n",
    "        elif indice >= 26 and n_indice > len(alfabeto):\n",
    "            n_indice = (n_indice%26)+26\n",
    "        text[text.index(i)]=alfabeto[n_indice]\n",
    "    else:\n",
    "        continue\n",
    "        \n",
    "#print(text) #print(text) #disabled, prints coded input in a list  \n",
    "\n",
    "c_text=''.join(text)\n",
    "word_l= c_text.split()\n",
    "n_word_l= list(range(len(word_l)))\n",
    "for i in word_l:\n",
    "    indice = word_l.index(i)\n",
    "    n_indice=indice+despp\n",
    "    if n_indice > len(word_l):\n",
    "        n_indice = (n_indice%len(word_l))-1\n",
    "    n_word_l[word_l.index(i)]=word_l[n_indice]\n",
    "    \n",
    "print(' '.join(n_word_l))"
   ]
  },
  {
   "cell_type": "code",
   "execution_count": null,
   "metadata": {
    "collapsed": true
   },
   "outputs": [],
   "source": []
  },
  {
   "cell_type": "code",
   "execution_count": null,
   "metadata": {
    "collapsed": true
   },
   "outputs": [],
   "source": []
  }
 ],
 "metadata": {
  "kernelspec": {
   "display_name": "Python 3",
   "language": "python",
   "name": "python3"
  },
  "language_info": {
   "codemirror_mode": {
    "name": "ipython",
    "version": 3
   },
   "file_extension": ".py",
   "mimetype": "text/x-python",
   "name": "python",
   "nbconvert_exporter": "python",
   "pygments_lexer": "ipython3",
   "version": "3.6.1"
  }
 },
 "nbformat": 4,
 "nbformat_minor": 2
}
